{
 "cells": [
  {
   "cell_type": "markdown",
   "metadata": {
    "id": "RGMmQ4R1zsXK"
   },
   "source": [
    "# TP 8 Distribution Gaussienne\n",
    "Dans ce TP, nous aimerions explorer le classifieur base sur les distributions gaussiennnes pour une classification binaire.\n",
    "\n"
   ]
  },
  {
   "cell_type": "markdown",
   "metadata": {
    "id": "bDpxocMFzsXP"
   },
   "source": [
    "# Importation des librairies necessaires au travail"
   ]
  },
  {
   "cell_type": "code",
   "execution_count": 2,
   "metadata": {
    "id": "tY3mqEITzsXT"
   },
   "outputs": [],
   "source": [
    "import numpy as np\n",
    "import matplotlib.pyplot as plt\n",
    "from numpy import random\n",
    "from sklearn.metrics import f1_score"
   ]
  },
  {
   "cell_type": "markdown",
   "metadata": {
    "id": "KCMUTWfpzsXY"
   },
   "source": [
    "# Lecture des fichiers de données\n",
    "Pour ce TP, nous allons lire les données à partir d'un fichier csv."
   ]
  },
  {
   "cell_type": "code",
   "execution_count": 3,
   "metadata": {
    "colab": {
     "base_uri": "https://localhost:8080/",
     "height": 355
    },
    "executionInfo": {
     "elapsed": 454,
     "status": "error",
     "timestamp": 1652250834154,
     "user": {
      "displayName": "insaf setitra",
      "userId": "17481774957281678772"
     },
     "user_tz": -120
    },
    "id": "M0DPNJGfzsXa",
    "outputId": "056127be-cccb-4c4c-cecb-9efecbf173a0"
   },
   "outputs": [
    {
     "data": {
      "text/plain": [
       "(307, 2)"
      ]
     },
     "execution_count": 3,
     "metadata": {},
     "output_type": "execute_result"
    }
   ],
   "source": [
    "# données\n",
    "X = np.genfromtxt('X.csv', delimiter=',', dtype=float)\n",
    "X.shape"
   ]
  },
  {
   "cell_type": "code",
   "execution_count": 4,
   "metadata": {},
   "outputs": [
    {
     "data": {
      "text/plain": [
       "(307, 1)"
      ]
     },
     "execution_count": 4,
     "metadata": {},
     "output_type": "execute_result"
    }
   ],
   "source": [
    "Y = np.genfromtxt('yval.csv', delimiter=',', dtype=float)[:, np.newaxis]\n",
    "Y.shape"
   ]
  },
  {
   "cell_type": "markdown",
   "metadata": {
    "id": "BkwayUKXzsXd"
   },
   "source": [
    "Dans ces données (data), les 2 premières colonnes representent les caracteristiques de l'ensemble d'entrainement.\n",
    "\n",
    "Chaque ligne represente un exemple de notre ensemble de données. \n"
   ]
  },
  {
   "cell_type": "markdown",
   "metadata": {
    "id": "Fng1mGHIzsXl"
   },
   "source": [
    "# Entrainement \n",
    "dans cette partie nous allons calculer les parametres de la disribution gaussienne de chaque caracteristique."
   ]
  },
  {
   "cell_type": "code",
   "execution_count": null,
   "metadata": {
    "id": "zP6MGRvtzsXm",
    "outputId": "b35c228a-cd9e-4bab-e346-87e2a349aba0"
   },
   "outputs": [
    {
     "data": {
      "text/plain": [
       "<matplotlib.collections.PathCollection at 0x7fd963caa280>"
      ]
     },
     "execution_count": 95,
     "metadata": {},
     "output_type": "execute_result"
    },
    {
     "data": {
      "image/png": "[encoded data removed]",
      "text/plain": [
       "<Figure size 432x288 with 1 Axes>"
      ]
     },
     "metadata": {
      "needs_background": "light"
     },
     "output_type": "display_data"
    }
   ],
   "source": [
    "plt.scatter(X0[:,0],X0[:,1], marker ='x')\n",
    "plt.scatter(X1[:,0],X1[:,1], marker ='o')"
   ]
  },
  {
   "cell_type": "markdown",
   "metadata": {
    "id": "P34bOn1RzsXp"
   },
   "source": [
    "Mettons un lien avec ce que nous avons appris en regression linéaire"
   ]
  },
  {
   "cell_type": "code",
   "execution_count": 6,
   "metadata": {
    "id": "0Eb_mQg2Sffs"
   },
   "outputs": [],
   "source": [
    "m = np.mean(X, axis=0)\n",
    "v = np.var(X, axis=0)"
   ]
  },
  {
   "cell_type": "code",
   "execution_count": 9,
   "metadata": {
    "id": "YII0TVbrSfft"
   },
   "outputs": [
    {
     "data": {
      "text/plain": [
       "array([[2.16228566e-01, 2.99282037e-01],\n",
       "       [2.57494463e-01, 1.95359578e-01],\n",
       "       [2.94127751e-01, 2.46338092e-01],\n",
       "       [2.47180418e-01, 2.03564553e-01],\n",
       "       [2.72534330e-01, 2.33718327e-01],\n",
       "       [2.91795287e-01, 1.45439696e-01],\n",
       "       [1.87118467e-01, 2.55993023e-01],\n",
       "       [1.51227848e-01, 2.41471021e-01],\n",
       "       [9.35546075e-02, 1.99494072e-01],\n",
       "       [1.66546476e-01, 3.04236648e-01],\n",
       "       [2.93392047e-01, 9.03776349e-02],\n",
       "       [2.94479979e-01, 2.87660583e-01],\n",
       "       [2.55598758e-01, 2.77971868e-01],\n",
       "       [2.56000881e-01, 2.71735670e-01],\n",
       "       [2.93266961e-01, 1.28872329e-01],\n",
       "       [2.94441344e-01, 2.80896196e-01],\n",
       "       [2.92881597e-01, 2.99766071e-01],\n",
       "       [2.85181255e-01, 3.04637799e-01],\n",
       "       [2.77259552e-01, 2.49513837e-01],\n",
       "       [9.48677566e-02, 1.02571311e-01],\n",
       "       [2.70256903e-01, 2.80135423e-01],\n",
       "       [2.93412340e-01, 3.01206584e-01],\n",
       "       [2.41097684e-01, 1.55197103e-01],\n",
       "       [2.93034466e-01, 2.97369048e-01],\n",
       "       [1.96113043e-01, 2.10396572e-01],\n",
       "       [1.56540161e-01, 1.58934454e-01],\n",
       "       [2.75913404e-01, 2.86693741e-01],\n",
       "       [2.57544401e-01, 2.94825155e-01],\n",
       "       [2.76683148e-01, 2.92116707e-01],\n",
       "       [2.83497511e-01, 2.70323460e-01],\n",
       "       [1.70692913e-01, 2.93653010e-01],\n",
       "       [2.93180401e-01, 3.00311719e-01],\n",
       "       [2.04367463e-01, 3.02393881e-01],\n",
       "       [1.95785412e-01, 3.04557280e-01],\n",
       "       [1.08951061e-01, 1.91878528e-01],\n",
       "       [2.45984196e-01, 1.86220561e-01],\n",
       "       [1.40686209e-01, 2.51277578e-01],\n",
       "       [2.94631391e-01, 2.78760614e-01],\n",
       "       [2.80537470e-01, 2.58179104e-01],\n",
       "       [2.93706657e-01, 2.89310411e-01],\n",
       "       [2.81685342e-01, 2.27917031e-01],\n",
       "       [2.25273168e-01, 2.95156160e-01],\n",
       "       [2.82181001e-01, 2.96792151e-01],\n",
       "       [2.94288963e-01, 2.91406044e-01],\n",
       "       [2.66706926e-01, 2.60368042e-01],\n",
       "       [2.88575251e-01, 2.03984622e-01],\n",
       "       [1.11348130e-01, 2.96879997e-01],\n",
       "       [2.94673614e-01, 2.38546397e-01],\n",
       "       [2.89046330e-01, 2.68955018e-01],\n",
       "       [1.85603650e-01, 1.93997497e-01],\n",
       "       [2.40927709e-01, 3.05092739e-01],\n",
       "       [2.79243129e-01, 2.70795225e-01],\n",
       "       [2.85686982e-01, 2.99146489e-01],\n",
       "       [2.94675905e-01, 3.04695812e-01],\n",
       "       [2.79880404e-01, 2.71133342e-01],\n",
       "       [2.94557640e-01, 2.86666720e-01],\n",
       "       [2.94675905e-01, 2.94527994e-01],\n",
       "       [2.92869704e-01, 3.05092022e-01],\n",
       "       [2.61599820e-01, 2.99342503e-01],\n",
       "       [2.93923925e-01, 2.07476601e-01],\n",
       "       [2.41828857e-01, 2.85037066e-01],\n",
       "       [2.93102707e-01, 3.05005106e-01],\n",
       "       [2.00089857e-01, 1.17707097e-01],\n",
       "       [2.89295555e-01, 1.35540319e-01],\n",
       "       [2.93045811e-01, 1.18329098e-01],\n",
       "       [2.40814711e-01, 2.93109701e-01],\n",
       "       [2.81591061e-01, 1.20329848e-01],\n",
       "       [2.82303511e-01, 2.86538732e-01],\n",
       "       [1.49424096e-01, 1.60184954e-01],\n",
       "       [2.04625724e-01, 4.48384811e-02],\n",
       "       [2.73791732e-01, 3.02949459e-01],\n",
       "       [2.22268965e-01, 7.87197637e-02],\n",
       "       [2.92772082e-01, 2.66691170e-01],\n",
       "       [1.53166431e-01, 3.02010657e-01],\n",
       "       [2.90550264e-01, 2.84061798e-01],\n",
       "       [2.92543212e-01, 2.97606964e-01],\n",
       "       [2.52998673e-01, 2.75351560e-01],\n",
       "       [2.94685623e-01, 3.02120126e-01],\n",
       "       [1.12844777e-01, 2.72333601e-01],\n",
       "       [2.63785414e-01, 2.75064801e-01],\n",
       "       [2.85739482e-01, 3.05101310e-01],\n",
       "       [1.87908711e-01, 2.67218787e-01],\n",
       "       [2.79512801e-01, 3.03771957e-01],\n",
       "       [1.89159891e-01, 2.77326384e-01],\n",
       "       [1.68585825e-01, 2.82135423e-01],\n",
       "       [2.89336561e-01, 2.73711483e-01],\n",
       "       [2.76208193e-01, 2.79659909e-01],\n",
       "       [2.35826302e-01, 3.04524014e-01],\n",
       "       [2.88618832e-01, 2.99519968e-01],\n",
       "       [2.93634390e-01, 2.69675236e-01],\n",
       "       [2.39110423e-01, 2.92050733e-01],\n",
       "       [2.55093860e-01, 2.98917215e-01],\n",
       "       [2.90048598e-01, 3.05054177e-01],\n",
       "       [1.31688812e-01, 2.94144882e-01],\n",
       "       [2.91175173e-01, 2.86121271e-01],\n",
       "       [1.31751234e-01, 2.62369419e-01],\n",
       "       [1.35225767e-01, 2.25021952e-01],\n",
       "       [2.68357899e-01, 2.42560871e-01],\n",
       "       [2.67667936e-01, 1.63250744e-01],\n",
       "       [2.73714095e-01, 3.04566323e-01],\n",
       "       [1.20289333e-01, 3.00553871e-01],\n",
       "       [2.56501276e-01, 2.11228365e-01],\n",
       "       [2.22022236e-01, 2.40458154e-01],\n",
       "       [1.89291458e-01, 2.62479598e-01],\n",
       "       [1.80193748e-01, 2.88136884e-01],\n",
       "       [2.84327198e-01, 2.98653054e-01],\n",
       "       [1.48267543e-01, 2.19883529e-01],\n",
       "       [2.58429033e-01, 2.68124857e-01],\n",
       "       [2.16919838e-01, 1.29954579e-01],\n",
       "       [3.14767949e-02, 3.03474547e-01],\n",
       "       [2.90675497e-01, 2.82530949e-01],\n",
       "       [1.97158298e-01, 1.46028955e-01],\n",
       "       [2.07072993e-01, 3.02733306e-01],\n",
       "       [2.94573476e-01, 7.19765021e-02],\n",
       "       [2.94300243e-01, 2.90203692e-02],\n",
       "       [1.13248721e-01, 2.98730778e-01],\n",
       "       [2.56451903e-01, 2.34675690e-01],\n",
       "       [2.22576398e-01, 1.95690965e-01],\n",
       "       [2.89539308e-01, 3.04979899e-01],\n",
       "       [1.70956465e-01, 1.19621442e-01],\n",
       "       [1.98593302e-01, 2.89067950e-01],\n",
       "       [2.94147659e-01, 2.68056993e-01],\n",
       "       [2.87028832e-01, 3.04817721e-01],\n",
       "       [2.77008019e-01, 3.05003019e-01],\n",
       "       [2.80667230e-01, 1.38723464e-01],\n",
       "       [2.74979158e-01, 2.47523558e-01],\n",
       "       [2.20474778e-01, 2.31753689e-01],\n",
       "       [2.44557122e-01, 2.87660583e-01],\n",
       "       [1.08384134e-01, 2.63028880e-01],\n",
       "       [2.91274449e-01, 3.03815073e-01],\n",
       "       [2.52792031e-01, 2.62990608e-01],\n",
       "       [2.93915979e-01, 1.20499273e-01],\n",
       "       [2.57395603e-01, 2.91314765e-01],\n",
       "       [2.20350691e-01, 2.52589161e-01],\n",
       "       [1.69440800e-01, 2.02113891e-01],\n",
       "       [2.94180235e-01, 2.93299454e-01],\n",
       "       [2.52377599e-01, 2.81331234e-01],\n",
       "       [2.56000881e-01, 2.69264392e-01],\n",
       "       [2.73324002e-01, 2.73969624e-01],\n",
       "       [2.23068689e-01, 2.72497338e-01],\n",
       "       [2.80210656e-01, 1.75614162e-01],\n",
       "       [2.93034466e-01, 3.04928926e-01],\n",
       "       [9.09581990e-02, 1.77167587e-01],\n",
       "       [2.76791468e-01, 1.76412023e-01],\n",
       "       [2.72095100e-01, 3.05062268e-01],\n",
       "       [1.60385744e-01, 1.21506135e-01],\n",
       "       [2.14590939e-01, 2.59879373e-01],\n",
       "       [1.64190803e-02, 2.82020119e-01],\n",
       "       [2.01908206e-01, 2.91785283e-01],\n",
       "       [2.93530760e-01, 3.04990648e-01],\n",
       "       [1.54266847e-01, 3.01579670e-01],\n",
       "       [1.50325276e-01, 1.96959874e-01],\n",
       "       [2.36348253e-01, 2.70084179e-01],\n",
       "       [2.93491922e-01, 2.85727286e-01],\n",
       "       [2.62955390e-01, 1.80510989e-01],\n",
       "       [2.26732640e-01, 2.52867833e-01],\n",
       "       [2.90029700e-01, 3.05046961e-01],\n",
       "       [2.70588168e-01, 1.90981028e-01],\n",
       "       [2.08484417e-01, 3.01977596e-01],\n",
       "       [2.89275223e-01, 3.04909863e-01],\n",
       "       [2.73480420e-01, 3.01544425e-01],\n",
       "       [1.15573793e-01, 2.73025585e-01],\n",
       "       [2.79107477e-01, 1.65347791e-01],\n",
       "       [2.90330853e-01, 2.87459952e-01],\n",
       "       [2.75654159e-01, 2.55452523e-01],\n",
       "       [2.94551010e-01, 1.47522706e-01],\n",
       "       [2.94369605e-01, 2.73969624e-01],\n",
       "       [2.94540727e-01, 2.92896185e-01],\n",
       "       [1.24544845e-01, 1.80560379e-01],\n",
       "       [2.93202279e-01, 2.47688665e-01],\n",
       "       [1.71008454e-02, 1.53082674e-01],\n",
       "       [2.91388326e-01, 3.05066046e-01],\n",
       "       [1.28493788e-01, 3.03251258e-01],\n",
       "       [2.17421206e-01, 2.81792837e-01],\n",
       "       [1.95589934e-01, 2.57148043e-01],\n",
       "       [2.70422780e-01, 2.60815740e-01],\n",
       "       [2.72693272e-01, 2.85596410e-01],\n",
       "       [2.93277721e-01, 3.04424523e-01],\n",
       "       [1.96505167e-01, 2.62919240e-01],\n",
       "       [1.21183566e-01, 3.02847589e-01],\n",
       "       [2.89377415e-01, 2.95917636e-01],\n",
       "       [2.94639833e-01, 2.65375874e-01],\n",
       "       [1.62609959e-01, 2.69300332e-01],\n",
       "       [2.89679184e-01, 2.10625543e-01],\n",
       "       [2.82787913e-01, 2.92509266e-01],\n",
       "       [2.93068638e-01, 2.03704599e-01],\n",
       "       [2.22022236e-01, 2.97624682e-01],\n",
       "       [2.19294626e-01, 2.29907632e-01],\n",
       "       [2.47233943e-01, 2.73969624e-01],\n",
       "       [2.93011402e-01, 2.64298267e-01],\n",
       "       [2.82333713e-01, 1.62085805e-01],\n",
       "       [1.48010862e-01, 2.27963515e-01],\n",
       "       [2.55497977e-01, 2.71399991e-01],\n",
       "       [2.94624664e-01, 2.24571906e-01],\n",
       "       [2.54536178e-01, 2.30304196e-01],\n",
       "       [1.71680671e-01, 2.61667378e-01],\n",
       "       [2.42892950e-01, 2.98870857e-01],\n",
       "       [2.92410555e-01, 2.92182524e-01],\n",
       "       [2.18857769e-01, 3.02694130e-01],\n",
       "       [2.74561075e-01, 3.10807012e-02],\n",
       "       [1.69440800e-01, 2.51439038e-01],\n",
       "       [2.90495730e-01, 2.43313397e-01],\n",
       "       [2.93947175e-01, 2.68333098e-01],\n",
       "       [1.91920111e-01, 2.49634824e-01],\n",
       "       [2.72613864e-01, 3.03871133e-01],\n",
       "       [2.55800020e-01, 2.69367280e-01],\n",
       "       [2.80956813e-01, 2.37648749e-01],\n",
       "       [1.94607558e-01, 1.18827813e-01],\n",
       "       [2.81275677e-01, 2.89740530e-01],\n",
       "       [2.93947175e-01, 2.50117896e-01],\n",
       "       [2.76900292e-01, 1.74344136e-01],\n",
       "       [2.36754349e-01, 2.82560523e-01],\n",
       "       [2.94471663e-01, 1.94654030e-01],\n",
       "       [2.85073050e-01, 1.37128430e-01],\n",
       "       [2.72733368e-01, 3.04951841e-01],\n",
       "       [2.89418117e-01, 2.44729121e-01],\n",
       "       [2.92410555e-01, 2.31095729e-01],\n",
       "       [2.45217550e-01, 2.67392357e-01],\n",
       "       [2.85368917e-01, 1.55887527e-01],\n",
       "       [2.60888873e-01, 3.04514625e-01],\n",
       "       [2.94173743e-01, 2.75793836e-01],\n",
       "       [2.87857486e-01, 2.75637167e-01],\n",
       "       [6.16410405e-02, 3.00725561e-01],\n",
       "       [1.09120797e-01, 2.66865686e-01],\n",
       "       [2.50704767e-01, 1.77026318e-01],\n",
       "       [2.18421700e-01, 3.03040864e-01],\n",
       "       [6.74972409e-02, 2.87735998e-01],\n",
       "       [1.95262109e-01, 2.89429296e-01],\n",
       "       [2.75839379e-01, 1.68291777e-01],\n",
       "       [2.80989211e-01, 2.87611421e-01],\n",
       "       [1.63920627e-01, 3.04020075e-01],\n",
       "       [1.67927899e-01, 1.67169212e-01],\n",
       "       [2.88063495e-01, 3.00995110e-01],\n",
       "       [2.11994670e-01, 3.04753893e-01],\n",
       "       [2.30403997e-01, 3.03836367e-01],\n",
       "       [2.52792031e-01, 2.97402556e-01],\n",
       "       [1.86789827e-01, 2.94527994e-01],\n",
       "       [2.86659376e-01, 2.96612556e-01],\n",
       "       [2.73597832e-01, 1.85654466e-01],\n",
       "       [1.39550333e-01, 2.79422833e-01],\n",
       "       [2.93643461e-01, 1.26083727e-01],\n",
       "       [2.01648754e-01, 5.87278334e-02],\n",
       "       [2.81528263e-01, 2.98057195e-01],\n",
       "       [2.25760583e-01, 2.87535761e-01],\n",
       "       [2.87765064e-01, 2.40032714e-01],\n",
       "       [2.13452937e-01, 2.59202019e-01],\n",
       "       [2.80731903e-01, 2.56727504e-01],\n",
       "       [2.40814711e-01, 1.82541031e-01],\n",
       "       [2.39110423e-01, 2.95001524e-01],\n",
       "       [1.00877805e-01, 6.23068815e-02],\n",
       "       [2.88941109e-01, 2.23271916e-01],\n",
       "       [1.13538774e-01, 2.81361487e-01],\n",
       "       [2.84383327e-01, 1.78390036e-01],\n",
       "       [2.52221219e-01, 1.47883389e-01],\n",
       "       [2.21094453e-01, 3.03607476e-01],\n",
       "       [2.75242491e-01, 3.03607476e-01],\n",
       "       [2.16166415e-01, 2.47768254e-01],\n",
       "       [2.94544220e-01, 2.97725778e-01],\n",
       "       [2.37734666e-01, 2.22684567e-01],\n",
       "       [2.92369842e-01, 3.00105248e-01],\n",
       "       [1.88633506e-01, 2.62589670e-01],\n",
       "       [2.32009384e-01, 1.82774626e-01],\n",
       "       [2.55296118e-01, 2.95387356e-01],\n",
       "       [2.18546548e-01, 3.00981862e-01],\n",
       "       [2.79277332e-01, 2.34500196e-01],\n",
       "       [2.74139947e-01, 2.64189898e-01],\n",
       "       [2.44611663e-01, 2.68577101e-01],\n",
       "       [2.87672045e-01, 2.49955115e-01],\n",
       "       [2.91532350e-01, 1.92302487e-01],\n",
       "       [2.69166861e-01, 2.56265238e-01],\n",
       "       [2.58916863e-01, 2.03095349e-01],\n",
       "       [2.85581545e-01, 2.94507092e-01],\n",
       "       [2.85153959e-01, 3.05046961e-01],\n",
       "       [2.94408962e-01, 2.19835999e-01],\n",
       "       [1.99374881e-01, 2.21784629e-01],\n",
       "       [2.29506033e-01, 1.03424456e-01],\n",
       "       [1.70889844e-01, 2.27917031e-01],\n",
       "       [2.89479108e-01, 1.23277326e-01],\n",
       "       [2.42053349e-01, 2.40920969e-01],\n",
       "       [7.87558299e-02, 2.92182524e-01],\n",
       "       [2.53564390e-01, 3.02054989e-01],\n",
       "       [1.12037691e-01, 2.87155238e-01],\n",
       "       [2.94522887e-01, 1.96487802e-01],\n",
       "       [2.41097684e-01, 2.75160515e-01],\n",
       "       [2.63648213e-01, 2.85912848e-01],\n",
       "       [2.49380757e-01, 2.69572702e-01],\n",
       "       [2.16605415e-01, 2.96612556e-01],\n",
       "       [2.85739482e-01, 2.57492627e-01],\n",
       "       [2.16668879e-01, 2.82560523e-01],\n",
       "       [2.93876177e-01, 3.04455266e-01],\n",
       "       [2.87949308e-01, 2.73320290e-01],\n",
       "       [2.94680004e-01, 3.04941734e-01],\n",
       "       [2.79813943e-01, 3.03393114e-01],\n",
       "       [2.94676978e-01, 2.23271916e-01],\n",
       "       [2.77827454e-01, 2.59879373e-01],\n",
       "       [2.81434154e-01, 2.56802568e-01],\n",
       "       [2.91870694e-01, 2.98747160e-01],\n",
       "       [2.79141817e-01, 2.84470665e-01],\n",
       "       [2.93670841e-01, 2.45349579e-01],\n",
       "       [9.13186148e-02, 1.37261088e-01],\n",
       "       [2.20226554e-01, 2.69379221e-05],\n",
       "       [3.97202172e-08, 2.97525664e-16],\n",
       "       [1.42078537e-01, 2.80281387e-01],\n",
       "       [8.37878321e-05, 6.51141206e-04],\n",
       "       [2.39938742e-11, 1.85937516e-01],\n",
       "       [2.69133749e-03, 2.27154561e-02],\n",
       "       [1.22913013e-11, 2.37455483e-12]])"
      ]
     },
     "execution_count": 9,
     "metadata": {},
     "output_type": "execute_result"
    }
   ],
   "source": [
    "def calculProba(X,m,v):\n",
    "    return (1 / (np.sqrt(2 * v * np.pi))) * np.exp(- np.power(X - m, 2) / (2 * v))\n",
    "calculProba(X,m,v)"
   ]
  },
  {
   "cell_type": "code",
   "execution_count": 22,
   "metadata": {
    "id": "XyirSoWgSffv",
    "outputId": "1ab4879f-1df6-4115-e512-9e298cdae2f2",
    "scrolled": true
   },
   "outputs": [
    {
     "data": {
      "text/plain": [
       "<matplotlib.collections.PathCollection at 0x24d913dc7c0>"
      ]
     },
     "execution_count": 22,
     "metadata": {},
     "output_type": "execute_result"
    },
    {
     "data": {
      "image/png": "[encoded data removed]",
      "text/plain": [
       "<Figure size 432x288 with 1 Axes>"
      ]
     },
     "metadata": {
      "needs_background": "light"
     },
     "output_type": "display_data"
    }
   ],
   "source": [
    "plt.scatter(X[:,0],prob[:,0])"
   ]
  },
  {
   "cell_type": "code",
   "execution_count": 23,
   "metadata": {
    "id": "UMSoaZAeSffv",
    "outputId": "89a2a3db-947f-4a30-f298-4102a094fa63",
    "scrolled": false
   },
   "outputs": [
    {
     "data": {
      "text/plain": [
       "<matplotlib.collections.PathCollection at 0x24d9139df40>"
      ]
     },
     "execution_count": 23,
     "metadata": {},
     "output_type": "execute_result"
    },
    {
     "data": {
      "image/png": "[encoded data removed]",
      "text/plain": [
       "<Figure size 432x288 with 1 Axes>"
      ]
     },
     "metadata": {
      "needs_background": "light"
     },
     "output_type": "display_data"
    }
   ],
   "source": [
    "plt.scatter(X[:,1],prob[:,1])"
   ]
  },
  {
   "cell_type": "markdown",
   "metadata": {},
   "source": [
    "# Gaussienne univariée"
   ]
  },
  {
   "cell_type": "code",
   "execution_count": 25,
   "metadata": {
    "id": "HF5jXvpUSffv"
   },
   "outputs": [],
   "source": [
    "f1_scores = []\n",
    "proba = calculProba(X, m, v)\n",
    "yproba = proba[:,0]*proba[:,1]\n",
    "for epsilon in np.arange(0, 1, 0.0001):\n",
    "    y_pred = np.ones(yproba.shape)\n",
    "    y_pred[yproba >= epsilon] = 0\n",
    "    f1_scores.append((epsilon, f1_score(Y, y_pred)))"
   ]
  },
  {
   "cell_type": "code",
   "execution_count": 26,
   "metadata": {},
   "outputs": [
    {
     "data": {
      "text/plain": [
       "(0.0001, 0.8)"
      ]
     },
     "execution_count": 26,
     "metadata": {},
     "output_type": "execute_result"
    }
   ],
   "source": [
    "epci = list(sorted(f1_scores, key=lambda x: x[1], reverse=True))[0]\n",
    "epci"
   ]
  },
  {
   "cell_type": "code",
   "execution_count": 30,
   "metadata": {},
   "outputs": [
    {
     "data": {
      "image/png": "[encoded data removed]",
      "text/plain": [
       "<Figure size 432x288 with 1 Axes>"
      ]
     },
     "metadata": {
      "needs_background": "light"
     },
     "output_type": "display_data"
    }
   ],
   "source": [
    "fig = plt.figure()\n",
    "ax1 = plt.subplot(projection='3d')\n",
    "ax1.plot_surface(X[:, 0], X[:, 1], np.reshape(yproba,Y.shape) ,cmap='coolwarm',linewidth=0)\n",
    "ax1.set_xlabel('X0')\n",
    "ax1.set_ylabel('X1')\n",
    "ax1.set_zlabel('Y')\n",
    "plt.show()"
   ]
  },
  {
   "cell_type": "markdown",
   "metadata": {},
   "source": [
    "# Gaussienne multivarié"
   ]
  },
  {
   "cell_type": "code",
   "execution_count": 31,
   "metadata": {},
   "outputs": [],
   "source": [
    "def calculProbaMultivar(X):\n",
    "    MatricCov = np.cov(X.T)                  #Calculer la matrice de covariance 𝛴\n",
    "    DetMatricCov = np.linalg.det(MatricCov)  #Calculer le determinant\n",
    "    InvMatricCov = np.linalg.inv(MatricCov)  #Calculer la matrice inverse 𝛴\n",
    "    m = np.mean(X, axis=0)\n",
    "    return ((1/(np.sqrt(2 * np.pi * DetMatricCov)))* np.exp ((-1/2)*(((X - m)  @ InvMatricCov) * (X - m)).sum(axis=1)))[:, np.newaxis]\n",
    "probaMulti = calculProbaMultivar(X)"
   ]
  },
  {
   "cell_type": "code",
   "execution_count": 32,
   "metadata": {},
   "outputs": [],
   "source": [
    "f1_scores = []\n",
    "for epsilon in np.arange(0, 1, 0.0001):\n",
    "    y_pred = np.ones(probaMulti.shape)\n",
    "    y_pred[probaMulti >= epsilon] = 0\n",
    "    f1_scores.append((epsilon, f1_score(Y, y_pred)))"
   ]
  },
  {
   "cell_type": "code",
   "execution_count": 33,
   "metadata": {},
   "outputs": [
    {
     "data": {
      "text/plain": [
       "(0.0001, 0.8)"
      ]
     },
     "execution_count": 33,
     "metadata": {},
     "output_type": "execute_result"
    }
   ],
   "source": [
    "epciMult = list(sorted(f1_scores, key=lambda x: x[1], reverse=True))[0]\n",
    "epciMult"
   ]
  },
  {
   "cell_type": "code",
   "execution_count": 34,
   "metadata": {},
   "outputs": [
    {
     "data": {
      "image/png": "[encoded data removed]",
      "text/plain": [
       "<Figure size 432x288 with 1 Axes>"
      ]
     },
     "metadata": {
      "needs_background": "light"
     },
     "output_type": "display_data"
    }
   ],
   "source": [
    "fig = plt.figure()\n",
    "ax2 = plt.subplot(projection='3d')\n",
    "ax2.plot_surface(X[:, 0], X[:, 1], probaMulti ,cmap='Spectral',linewidth=0)\n",
    "ax2.set_xlabel('X0')\n",
    "ax2.set_ylabel('X1')\n",
    "ax2.set_zlabel('Y')\n",
    "plt.show()"
   ]
  },
  {
   "cell_type": "markdown",
   "metadata": {
    "id": "c47rKy1pzsYG"
   },
   "source": [
    "# Travail à faire\n",
    "- 1) Nous aimerions bien choisir le epsilon, ceci est fait en analysant le score F1 obtenu precedenmment\n",
    "- 2) nous aimerions appliquer une gaussienne multivariée à nos caracterisqtues; et comparer les deux résultats (multiplication des gaussiennes univariées, et gaussienne multivariée)\n",
    "- 3) Nous aimerions visualiser en 3D la multiplication des gaussiennes univariées et la gaussienne multivariée pour comparaison. \n",
    "- 4) **** En Bonus - PAS obligatoire **** : nous aimerions utiliser la loi de Bayes afin de classifier nos exemples. Pour cela, voir le cours.\n"
   ]
  },
  {
   "cell_type": "markdown",
   "metadata": {
    "id": "1q-8odoLzsYH"
   },
   "source": [
    "# Consignes"
   ]
  },
  {
   "cell_type": "markdown",
   "metadata": {
    "id": "pwLYNnstzsYI"
   },
   "source": [
    "Le travail est à remettre par groupe de 4 au maximum [1..4].\n",
    "\n",
    "Le délai est le Lundi 23 Mai 2022 à 22h\n"
   ]
  },
  {
   "cell_type": "code",
   "execution_count": null,
   "metadata": {
    "id": "Sfv9XEQ1zsYI"
   },
   "outputs": [],
   "source": [
    "# bonne chance"
   ]
  }
 ],
 "metadata": {
  "colab": {
   "name": "TP8-Gaussienne.ipynb",
   "provenance": [
    {
     "file_id": "104d6umzYUZE1v5l5Lmbaj6kS5h49L0Rs",
     "timestamp": 1652250571890
    }
   ]
  },
  "kernelspec": {
   "display_name": "Python 3 (ipykernel)",
   "language": "python",
   "name": "python3"
  },
  "language_info": {
   "codemirror_mode": {
    "name": "ipython",
    "version": 3
   },
   "file_extension": ".py",
   "mimetype": "text/x-python",
   "name": "python",
   "nbconvert_exporter": "python",
   "pygments_lexer": "ipython3",
   "version": "3.9.7"
  }
 },
 "nbformat": 4,
 "nbformat_minor": 1
}
