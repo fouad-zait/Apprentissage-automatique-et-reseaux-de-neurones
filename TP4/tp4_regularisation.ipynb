{
 "cells": [
  {
   "cell_type": "markdown",
   "metadata": {},
   "source": [
    "# TP 4 Regression logistique avec régularisation\n",
    "Dans ce TP, nous aimerions faire une classification binaire en utilisant la régression.\n",
    "\n",
    "Pour ce faire, nous étudierons un ensemble de données avec la variable  (y) representant la commercialisation d'un profuit et les caractéristiques (X) representant les résultat des tests de qualité test 1 et test 2 du produit.\n",
    "\n",
    "La prédiction se fera avec l'agorithme de descente du gradient avec régularisation."
   ]
  },
  {
   "cell_type": "markdown",
   "metadata": {},
   "source": [
    "# Importation des librairies necessaires au travail"
   ]
  },
  {
   "cell_type": "code",
   "execution_count": 1,
   "metadata": {},
   "outputs": [],
   "source": [
    "import numpy as np\n",
    "import matplotlib.pyplot as plt\n",
    "import math\n",
    "import time\n",
    "from numpy.linalg import pinv"
   ]
  },
  {
   "cell_type": "markdown",
   "metadata": {},
   "source": [
    "# Lecture des fichiers de données\n",
    "Pour ce TP, nous allons lire les données à partir d'un fichier csv."
   ]
  },
  {
   "cell_type": "code",
   "execution_count": 2,
   "metadata": {},
   "outputs": [
    {
     "data": {
      "text/plain": [
       "(118, 3)"
      ]
     },
     "execution_count": 2,
     "metadata": {},
     "output_type": "execute_result"
    }
   ],
   "source": [
    "# données\n",
    "data = np.genfromtxt('data.csv', delimiter=',', dtype=float)\n",
    "data.shape"
   ]
  },
  {
   "cell_type": "markdown",
   "metadata": {},
   "source": [
    "Dans ces données (data), la première colonne represente la première note, la deuxieme colonne la deuxième note et la troisième colonne represente la commercialisation (1 oui 0 non).\n",
    "\n",
    "Chaque ligne represente un exemple de notre ensemble de données. \n",
    "\n",
    "Mettons ces données dans leus vecteurs correspondants."
   ]
  },
  {
   "cell_type": "code",
   "execution_count": 3,
   "metadata": {},
   "outputs": [],
   "source": [
    "# rajoutons l'ordonnée à l'origine theta 0\n",
    "intercept=np.ones((data.shape[0],1))\n",
    "X=np.column_stack((intercept,data[:,0:2]))\n",
    "y = data[:, 2];\n",
    "# forcer y à avoir une seule colonne\n",
    "y = y.reshape( y.shape[0], 1)"
   ]
  },
  {
   "cell_type": "code",
   "execution_count": 4,
   "metadata": {},
   "outputs": [
    {
     "name": "stdout",
     "output_type": "stream",
     "text": [
      "X (118, 3)  y  (118, 1)\n"
     ]
    }
   ],
   "source": [
    "print('X', X.shape ,' y ', y.shape)"
   ]
  },
  {
   "cell_type": "markdown",
   "metadata": {},
   "source": [
    "# Transformation de données\n",
    "Dans cette partie, nous aimerions transformer nos données afin d'avoir une fonction polynomiale de degrée 6.\n",
    "\n",
    "La fonction sera:\n",
    "\n",
    "$x_0=1$\n",
    "\n",
    "$x_1=x_1$\n",
    "\n",
    "$x_2=x_2$\n",
    "\n",
    "$x_3={x_1}^2$\n",
    "\n",
    "$x_4={x_1}x_2$\n",
    "\n",
    "$x_5={x_2}^2$\n",
    "\n",
    "$x_6={x_1}^3$\n",
    "\n",
    "$x_7={x_1}^2 x_2$\n",
    "\n",
    "$x_8= x_1 {x_2}^2$\n",
    "\n",
    "$x_9= {x_2}^3$\n",
    "\n",
    "...\n"
   ]
  },
  {
   "cell_type": "markdown",
   "metadata": {},
   "source": [
    "Pour un polynme de degrée 6 à 2 variables nous aurons 28 caracteristiques\n",
    "\n",
    "**Question**: comment avons nous trouvé ce chiffre?\n",
    "\n",
    "**Astuce**: référez vous aux probabilités"
   ]
  },
  {
   "cell_type": "code",
   "execution_count": 5,
   "metadata": {},
   "outputs": [],
   "source": [
    "def mapping(X):\n",
    "    \n",
    "    cols = 28\n",
    "    degree=7\n",
    "    outX= np.ones((X.shape[0],cols))\n",
    "    X1=X[:,1]\n",
    "    X2=X[:,2]\n",
    "    k=0\n",
    "    for i in range(degree):\n",
    "        for j in range(i+1):\n",
    "            outX[:, k] = np.power(X1,i-j)*(np.power(X2,j));\n",
    "            k=k+1\n",
    "    return outX    \n"
   ]
  },
  {
   "cell_type": "code",
   "execution_count": 6,
   "metadata": {},
   "outputs": [
    {
     "data": {
      "text/plain": [
       "(118, 28)"
      ]
     },
     "execution_count": 6,
     "metadata": {},
     "output_type": "execute_result"
    }
   ],
   "source": [
    "X2=mapping(X)\n",
    "X2.shape"
   ]
  },
  {
   "cell_type": "markdown",
   "metadata": {},
   "source": [
    "# Descente du Gradient : Préparation des fonctions"
   ]
  },
  {
   "cell_type": "markdown",
   "metadata": {},
   "source": [
    "0- Fonction mpgistique (Sigmoid)"
   ]
  },
  {
   "cell_type": "code",
   "execution_count": 7,
   "metadata": {},
   "outputs": [],
   "source": [
    "def Sigmoid(z):\n",
    "    # pour une valeur donnée, cette fonction calculera sa sigmoid\n",
    "    return 1/(1+np.exp(-z));\n",
    " "
   ]
  },
  {
   "cell_type": "code",
   "execution_count": 8,
   "metadata": {},
   "outputs": [
    {
     "data": {
      "text/plain": [
       "4.5397868702434395e-05"
      ]
     },
     "execution_count": 8,
     "metadata": {},
     "output_type": "execute_result"
    }
   ],
   "source": [
    "k=Sigmoid(-10)\n",
    "k"
   ]
  },
  {
   "cell_type": "markdown",
   "metadata": {},
   "source": [
    "1- Calcul du coût\n",
    "\n",
    "Cette fonction servira à calculer le cout $J(\\theta_0,\\theta_1)$\n",
    "\n",
    "Elle prendra l'ensemble de données d'apprentissage en entrée ainsi que les paramètres définis initialement"
   ]
  },
  {
   "cell_type": "code",
   "execution_count": 14,
   "metadata": {},
   "outputs": [
    {
     "name": "stdout",
     "output_type": "stream",
     "text": [
      "[0.69312718]\n"
     ]
    }
   ],
   "source": [
    "def computeCostReg(X2, y, theta):\n",
    "    jt=0\n",
    "    for i in range(len(X)):\n",
    "        j=0\n",
    "        for k in range(X.shape[1]):\n",
    "            j=j+theta[k][0]*X[i,k]\n",
    "#             print(j)\n",
    "        j=y[i]*math.log(Sigmoid(j)+0.00001)+(1-y[i])*math.log(1-Sigmoid(j)+0.00001)\n",
    "        jt=jt+j\n",
    "    jt=(-jt)/((len(X)))\n",
    "    t=0\n",
    "    for i in range(len(theta)):\n",
    "        if(i!=0):\n",
    "            t=t+theta[i][0]**2\n",
    "    t=t/(2*len(X2))\n",
    "    jt=jt+t\n",
    "    return jt\n",
    "print(computeCostReg(X2, y, theta))"
   ]
  },
  {
   "cell_type": "code",
   "execution_count": 30,
   "metadata": {},
   "outputs": [
    {
     "data": {
      "text/plain": [
       "0.69314707886504"
      ]
     },
     "execution_count": 30,
     "metadata": {},
     "output_type": "execute_result"
    }
   ],
   "source": [
    "def computeCostAvecVectorisation(X, y, theta):\n",
    "    z=X@theta\n",
    "    m=len(z)\n",
    "    cout=0\n",
    "    add=0\n",
    "    t=0\n",
    "    lambdaa=1\n",
    "    cout=np.sum(y*np.log(Sigmoid(z))+(1-y)*np.log(1-Sigmoid(z)+0.0000001))\n",
    "    cout=(-1/m)*cout\n",
    "    theta1=theta[1:]\n",
    "    cout=cout+np.sum(np.power(theta1,2))*(lambdaa/(2*len(X)))\n",
    "    return cout\n",
    "computeCostAvecVectorisation(X2, y, theta)"
   ]
  },
  {
   "cell_type": "markdown",
   "metadata": {},
   "source": [
    "2- Fonction de la descente du gradient\n",
    "\n",
    "Cette fonction mettra à jour les paramètres $\\theta_0,\\theta_1$ jusqu'à convergence: atteinte du nombre d'itérations max, ou dérivée assez petite."
   ]
  },
  {
   "cell_type": "code",
   "execution_count": 31,
   "metadata": {},
   "outputs": [
    {
     "name": "stdout",
     "output_type": "stream",
     "text": [
      "[[ 1.01751236e+00]\n",
      " [ 4.43195884e-01]\n",
      " [ 9.52036236e-01]\n",
      " [-1.62491923e+00]\n",
      " [-6.21366553e-01]\n",
      " [-9.94547287e-01]\n",
      " [ 3.25486613e-02]\n",
      " [-2.67509056e-01]\n",
      " [-2.67171844e-01]\n",
      " [-1.91241027e-01]\n",
      " [-1.21974336e+00]\n",
      " [-5.88885147e-02]\n",
      " [-4.74324697e-01]\n",
      " [-1.75802478e-01]\n",
      " [-9.82886112e-01]\n",
      " [-2.46886003e-01]\n",
      " [-1.65203476e-01]\n",
      " [-5.96279358e-02]\n",
      " [-2.08232656e-01]\n",
      " [-2.04751951e-01]\n",
      " [-4.96074259e-01]\n",
      " [-8.91622482e-01]\n",
      " [ 2.93091879e-04]\n",
      " [-2.33670040e-01]\n",
      " [ 4.37328790e-05]\n",
      " [-2.56047034e-01]\n",
      " [-8.56889956e-02]\n",
      " [-8.67719051e-01]]\n",
      "607.5750720500946\n"
     ]
    }
   ],
   "source": [
    "all_t0=[]\n",
    "all_t1=[]\n",
    "all_t2=[]\n",
    "all_costs=[]\n",
    "def j(theta,X,y):\n",
    "    theta_new=[]\n",
    "    for l in range(X.shape[1]):\n",
    "        j=0\n",
    "        for i in range(len(X)):\n",
    "            t=0\n",
    "            for k in range(X.shape[1]):\n",
    "                t=t+theta[k][0]*X[i,k]\n",
    "            t=Sigmoid(t)\n",
    "            t=t-y[i]\n",
    "            j=j+t*X[i,l]\n",
    "        j=j/len(X)\n",
    "#         print(j)\n",
    "        if(l!=0):\n",
    "                j=j+theta[l][0]*(lambdaa/len(X))\n",
    "        theta_new.append(j)\n",
    "    return theta_new\n",
    "# theta=j(theta,X2,y)\n",
    "# print(theta)\n",
    "def gradientDescent(X, y, theta, alpha, iterations):\n",
    "    # garder aussi le cout à chaque itération \n",
    "    # pour afficher le coût en fonction de theta0 et theta1\n",
    "    # GDMV\n",
    "    i=0\n",
    "    while(i<iterations):\n",
    "        jd=[]\n",
    "        jd=j(theta,X,y)\n",
    "#         if((np.isneginf(jd).any())|(np.isinf(jd).any())):\n",
    "#             break\n",
    "        for k in range(len(jd)):\n",
    "            theta[k][0]=theta[k][0]-alpha*jd[k]\n",
    "            if k==0:\n",
    "                all_t0.append(theta[k][0])\n",
    "            if k==1:\n",
    "                all_t1.append(theta[k][0])\n",
    "            if k==2:\n",
    "                all_t2.append(theta[k][0])\n",
    "        all_costs.append(computeCostAvecVectorisation(X, y, theta))\n",
    "        i=i+1\n",
    "    print(theta)\n",
    "start = time.time()\n",
    "gradientDescent(X2, y, theta, alpha, iterations)\n",
    "end = time.time()\n",
    "print(end - start)\n",
    "    "
   ]
  },
  {
   "cell_type": "code",
   "execution_count": 33,
   "metadata": {},
   "outputs": [
    {
     "data": {
      "text/plain": [
       "[<matplotlib.lines.Line2D at 0x24123613580>]"
      ]
     },
     "execution_count": 33,
     "metadata": {},
     "output_type": "execute_result"
    },
    {
     "data": {
      "image/png": "[encoded data removed]",
      "text/plain": [
       "<Figure size 432x288 with 1 Axes>"
      ]
     },
     "metadata": {
      "needs_background": "light"
     },
     "output_type": "display_data"
    }
   ],
   "source": [
    "plt.plot(all_costs)"
   ]
  },
  {
   "cell_type": "code",
   "execution_count": 34,
   "metadata": {},
   "outputs": [],
   "source": [
    "X_low=X2\n",
    "def drawCircle():\n",
    "    x1, x2 = np.meshgrid(np.linspace(X_low[:, 1].min(), X_low[:, 1].max(), 100),\n",
    "                         np.linspace(X_low[:, 2].min(), X_low[:, 2].max(), 100))\n",
    "    Z = Sigmoid(mapping(np.c_[np.ones(x1.size), x1.ravel(), x2.ravel()]) @ theta).reshape(x1.shape)\n",
    "\n",
    "    plt.contour(x1, x2, Z, 0)\n",
    "    plt.scatter(X_low[np.where(y==1),1],X_low[np.where(y==1),2], label=\"y=1\",marker ='o')\n",
    "    plt.scatter(X_low[np.where(y==0),1],X_low[np.where(y==0),2], label=\"y=0\",marker ='x')\n",
    "\n",
    "    plt.xlabel('x 1')\n",
    "    plt.ylabel('x 2')"
   ]
  },
  {
   "cell_type": "code",
   "execution_count": 35,
   "metadata": {},
   "outputs": [],
   "source": [
    "def predict(X):\n",
    "    y_pred = np.zeros((X.shape[0], 1))\n",
    "    y_pred[np.where(Sigmoid(mapping(X) @ theta) > 0.5)] = 1\n",
    "    return y_pred"
   ]
  },
  {
   "cell_type": "code",
   "execution_count": 36,
   "metadata": {},
   "outputs": [
    {
     "data": {
      "image/png": "[encoded data removed]",
      "text/plain": [
       "<Figure size 432x288 with 1 Axes>"
      ]
     },
     "metadata": {
      "needs_background": "light"
     },
     "output_type": "display_data"
    }
   ],
   "source": [
    "drawCircle()"
   ]
  },
  {
   "cell_type": "markdown",
   "metadata": {},
   "source": [
    "# Descente du Gradient : Appel des fonctions"
   ]
  },
  {
   "cell_type": "markdown",
   "metadata": {},
   "source": [
    "Initialisation de $\\theta_0$ et $\\theta_1$"
   ]
  },
  {
   "cell_type": "code",
   "execution_count": 28,
   "metadata": {},
   "outputs": [
    {
     "data": {
      "text/plain": [
       "(28, 1)"
      ]
     },
     "execution_count": 28,
     "metadata": {},
     "output_type": "execute_result"
    }
   ],
   "source": [
    "n=X2.shape[1]\n",
    "theta = np.zeros((n, 1))\n",
    "theta.shape"
   ]
  },
  {
   "cell_type": "markdown",
   "metadata": {},
   "source": [
    "Calculer le cout initial"
   ]
  },
  {
   "cell_type": "code",
   "execution_count": 12,
   "metadata": {},
   "outputs": [
    {
     "name": "stdout",
     "output_type": "stream",
     "text": [
      "[0.69314718]\n"
     ]
    }
   ],
   "source": [
    "initialCost=computeCostReg(X2, y, theta,1)\n",
    "print(initialCost)"
   ]
  },
  {
   "cell_type": "markdown",
   "metadata": {},
   "source": [
    "Appel des la fonction de calcul du gradient"
   ]
  },
  {
   "cell_type": "code",
   "execution_count": 29,
   "metadata": {},
   "outputs": [
    {
     "name": "stdout",
     "output_type": "stream",
     "text": [
      "[[0.]\n",
      " [0.]\n",
      " [0.]\n",
      " [0.]\n",
      " [0.]\n",
      " [0.]\n",
      " [0.]\n",
      " [0.]\n",
      " [0.]\n",
      " [0.]\n",
      " [0.]\n",
      " [0.]\n",
      " [0.]\n",
      " [0.]\n",
      " [0.]\n",
      " [0.]\n",
      " [0.]\n",
      " [0.]\n",
      " [0.]\n",
      " [0.]\n",
      " [0.]\n",
      " [0.]\n",
      " [0.]\n",
      " [0.]\n",
      " [0.]\n",
      " [0.]\n",
      " [0.]\n",
      " [0.]]\n"
     ]
    }
   ],
   "source": [
    "# paramètres\n",
    "iterations = 10000;\n",
    "alpha = 0.01;\n",
    "\n",
    "# paramètre de regression\n",
    "lambdaa = 1;\n",
    "\n",
    "# Appel\n",
    "# theta = gradientDescent(X2, y, theta, alpha, iterations);\n",
    "print(theta)\n"
   ]
  },
  {
   "cell_type": "markdown",
   "metadata": {},
   "source": [
    "Traçage de la fonction du coût"
   ]
  },
  {
   "cell_type": "markdown",
   "metadata": {},
   "source": [
    "Notons que $\\theta^T  x$ est équivalent à $X  \\theta $ où $X= \\begin{pmatrix}\n",
    "..(x^{(1)})^T..\\\\\n",
    "..(x^{(2)})^T..\\\\\n",
    ".\\\\\n",
    ".\\\\\n",
    ".\\\\\n",
    "..(x^{(m)})^T..\n",
    "\\end{pmatrix} $"
   ]
  },
  {
   "cell_type": "markdown",
   "metadata": {},
   "source": [
    "# Dessin de la limite de decision (Descision Boundary)\n",
    "Dans cette partie, nous aimerions dessiner la ligne separatrice d nos données"
   ]
  },
  {
   "cell_type": "code",
   "execution_count": 12,
   "metadata": {},
   "outputs": [],
   "source": [
    "def drawCircle():\n",
    "    x1, x2 = np.meshgrid(np.linspace(X2[:, 1].min(), X2[:, 1].max(), 100),\n",
    "                         np.linspace(X2[:, 2].min(), X2[:, 2].max(), 100))\n",
    "    Z = Sigmoid(mapping(np.c_[np.ones(x1.size), x1.ravel(), x2.ravel()]) @ theta).reshape(x1.shape)\n",
    "\n",
    "    plt.contour(x1, x2, Z, 0)\n",
    "    plt.scatter(X2[np.where(y==1),1],X2[np.where(y==1),2], label=\"y=1\",marker ='o')\n",
    "    plt.scatter(X2[np.where(y==0),1],X2[np.where(y==0),2], label=\"y=0\",marker ='x')\n",
    "\n",
    "    plt.xlabel('x 1')\n",
    "    plt.ylabel('x 2')"
   ]
  },
  {
   "cell_type": "markdown",
   "metadata": {},
   "source": [
    "# Classification (Prédiction)\n",
    "Ici il serait interessant de calculer la prédiction en utilisant un seuil\n",
    "i.e. si h>seuil alors classe =1 sinon classe = 0"
   ]
  },
  {
   "cell_type": "code",
   "execution_count": 192,
   "metadata": {},
   "outputs": [],
   "source": [
    "def predict(X):\n",
    "    y_pred = np.zeros((X.shape[0], 1))\n",
    "    yy=Sigmoid(mapping(X) @ theta)\n",
    "    for i in yy:\n",
    "        if yy[i]>0.5:\n",
    "            y_pred[i]=1\n",
    "    return y_pred"
   ]
  },
  {
   "cell_type": "markdown",
   "metadata": {},
   "source": [
    "# Affichage \n",
    "Graphe representant les acceptations selon les caracteristiques"
   ]
  },
  {
   "cell_type": "code",
   "execution_count": 208,
   "metadata": {},
   "outputs": [
    {
     "name": "stderr",
     "output_type": "stream",
     "text": [
      "C:\\Users\\LENOVO~1\\AppData\\Local\\Temp/ipykernel_1736/3775160104.py:6: UserWarning: No contour levels were found within the data range.\n",
      "  plt.contour(x1, x2, Z, 0)\n"
     ]
    },
    {
     "data": {
      "image/png": "[encoded data removed]",
      "text/plain": [
       "<Figure size 432x288 with 1 Axes>"
      ]
     },
     "metadata": {
      "needs_background": "light"
     },
     "output_type": "display_data"
    }
   ],
   "source": [
    "drawCircle()"
   ]
  },
  {
   "cell_type": "markdown",
   "metadata": {},
   "source": [
    "Traçage du coût en fonction de theta0 et theta1"
   ]
  },
  {
   "cell_type": "code",
   "execution_count": 193,
   "metadata": {},
   "outputs": [
    {
     "data": {
      "text/plain": [
       "<mpl_toolkits.mplot3d.art3d.Poly3DCollection at 0x29b591cbd60>"
      ]
     },
     "execution_count": 193,
     "metadata": {},
     "output_type": "execute_result"
    },
    {
     "data": {
      "image/png": "[encoded data removed]",
      "text/plain": [
       "<Figure size 432x288 with 1 Axes>"
      ]
     },
     "metadata": {
      "needs_background": "light"
     },
     "output_type": "display_data"
    }
   ],
   "source": [
    "theta_0_range, theta_1_range = np.meshgrid(np.arange(theta[0] - 10, theta[0] + 10, 0.1), \n",
    "                                           np.arange(theta[1] - 10, theta[1] + 10, 0.1))\n",
    "theta_mesh = np.expand_dims(np.stack((theta_0_range, theta_1_range), axis=-1), axis=3)\n",
    "loss = np.asarray(\n",
    "    [\n",
    "        [computeCostReg(X, y, np.concatenate((theta_mesh[i, j], theta[2:]), axis=0))[0]\n",
    "             for j in range(theta_mesh.shape[1])\n",
    "        ] \n",
    "        for i in range(theta_mesh.shape[0])\n",
    "    ]\n",
    ")\n",
    "\n",
    "fig = plt.figure()\n",
    "ax = fig.add_subplot(111, projection='3d')\n",
    "ax.plot_surface(theta_0_range, theta_1_range, loss)"
   ]
  },
  {
   "cell_type": "markdown",
   "metadata": {},
   "source": [
    "# Qualité du classifieur\n",
    "\n",
    "Prédire des valeurs de y\n",
    "\n",
    "Ici il serait interessant de calculer la précision de notre classifieur\n",
    "\n",
    "Essayons de calculer ça avec \n",
    "\n",
    "moyenne(y==y-pred) * 100\n",
    "\n",
    "Ceci donnera un pourcentage de precision"
   ]
  },
  {
   "cell_type": "code",
   "execution_count": 121,
   "metadata": {},
   "outputs": [
    {
     "data": {
      "text/plain": [
       "83.05084745762711"
      ]
     },
     "execution_count": 121,
     "metadata": {},
     "output_type": "execute_result"
    }
   ],
   "source": [
    "# calcul de precision = nombre de valeurs bien prédites (ici sur toute la base X)\n",
    "y_pred=predict(X)\n",
    "prcision = np.mean(y==y_pred)*100\n",
    "prcision"
   ]
  },
  {
   "cell_type": "markdown",
   "metadata": {},
   "source": [
    "# Vérification de l'implementation\n",
    "Comparer vos algorithmes à ceux de scikitlearn"
   ]
  },
  {
   "cell_type": "code",
   "execution_count": 37,
   "metadata": {},
   "outputs": [
    {
     "name": "stdout",
     "output_type": "stream",
     "text": [
      "*************** classification report using Sklearn: ******************\n",
      "\n",
      "              precision    recall  f1-score   support\n",
      "\n",
      "         0.0       0.90      0.75      0.82        60\n",
      "         1.0       0.78      0.91      0.84        58\n",
      "\n",
      "    accuracy                           0.83       118\n",
      "   macro avg       0.84      0.83      0.83       118\n",
      "weighted avg       0.84      0.83      0.83       118\n",
      "\n"
     ]
    }
   ],
   "source": [
    "import sklearn\n",
    "from sklearn.linear_model import LogisticRegression\n",
    "from sklearn.metrics import classification_report\n",
    "\n",
    "\n",
    "scikit_log_reg = LogisticRegression()\n",
    "clf= scikit_log_reg.fit(X2,np.ravel(y))\n",
    "y_pred_sickit = clf.predict(X2)\n",
    "print('*************** classification report using Sklearn: ******************\\n')\n",
    "print(classification_report(y, y_pred_sickit))\n"
   ]
  },
  {
   "cell_type": "markdown",
   "metadata": {},
   "source": [
    "# Renforcement d'apprentissage\n",
    "Mettre ici toute idée qui pourrait renforcer votre apprentissage"
   ]
  },
  {
   "cell_type": "code",
   "execution_count": null,
   "metadata": {},
   "outputs": [],
   "source": []
  },
  {
   "cell_type": "markdown",
   "metadata": {},
   "source": [
    "# Consignes"
   ]
  },
  {
   "cell_type": "markdown",
   "metadata": {},
   "source": [
    "Le travail est à remettre par groupe de 4 au maximum [1..4].\n",
    "\n",
    "Le délai est le vendredi 01 Avril 2022 à 22h\n"
   ]
  },
  {
   "cell_type": "code",
   "execution_count": null,
   "metadata": {},
   "outputs": [],
   "source": [
    "# bonne chance"
   ]
  }
 ],
 "metadata": {
  "kernelspec": {
   "display_name": "Python 3 (ipykernel)",
   "language": "python",
   "name": "python3"
  },
  "language_info": {
   "codemirror_mode": {
    "name": "ipython",
    "version": 3
   },
   "file_extension": ".py",
   "mimetype": "text/x-python",
   "name": "python",
   "nbconvert_exporter": "python",
   "pygments_lexer": "ipython3",
   "version": "3.9.7"
  }
 },
 "nbformat": 4,
 "nbformat_minor": 2
}
